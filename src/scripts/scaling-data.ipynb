{
 "cells": [
  {
   "cell_type": "code",
   "execution_count": null,
   "id": "9dc2b36e-0188-47f9-8b3e-51df2e034b69",
   "metadata": {},
   "outputs": [],
   "source": [
    "!nvidia-smi --query-gpu=gpu_name --format=csv"
   ]
  },
  {
   "cell_type": "code",
   "execution_count": null,
   "id": "f6b55e8c-d79d-48f8-ac69-1fbb3a9ad9ec",
   "metadata": {},
   "outputs": [],
   "source": [
    "import os\n",
    "\n",
    "os.environ[\"JAX_ENABLE_X64\"] = \"True\"\n",
    "os.environ[\"OMP_NUM_THREADS\"] = \"1\"\n",
    "os.environ[\"XLA_FLAGS\"] = (\n",
    "    os.environ.get(\"XLA_FLAGS\", \"\")\n",
    "    + \" --xla_cpu_multi_thread_eigen=false intra_op_parallelism_threads=1\"\n",
    ")"
   ]
  },
  {
   "cell_type": "code",
   "execution_count": null,
   "id": "a1962f06-c500-4150-80c0-da0b082e772e",
   "metadata": {},
   "outputs": [],
   "source": [
    "from functools import partial\n",
    "\n",
    "import numpy as np\n",
    "import pandas as pd\n",
    "import matplotlib.pyplot as plt\n",
    "\n",
    "import jax\n",
    "\n",
    "import tinygp\n",
    "\n",
    "jax.config.update(\"jax_enable_x64\", True)\n",
    "\n",
    "sigma = 1.5\n",
    "rho = 2.5\n",
    "jitter = 0.1\n",
    "\n",
    "random = np.random.default_rng(49382)\n",
    "x = np.sort(random.uniform(0, 10, 100_000))\n",
    "y = np.sin(x) + jitter * random.normal(0, 1, len(x))\n",
    "\n",
    "\n",
    "def tinygp_loglike(x, y):\n",
    "    kernel = sigma**2 * tinygp.kernels.Matern32(rho)\n",
    "    gp = tinygp.GaussianProcess(kernel, x, diag=jitter**2)\n",
    "    return gp.log_probability(y)\n",
    "\n",
    "\n",
    "tinygp_loglike_cpu = jax.jit(tinygp_loglike, backend=\"cpu\")\n",
    "tinygp_loglike_gpu = jax.jit(tinygp_loglike, backend=\"gpu\")\n",
    "\n",
    "\n",
    "@partial(jax.jit, backend=\"cpu\", static_argnames=(\"num_terms\",))\n",
    "def quasisep_loglike(x, y, num_terms=1):\n",
    "    kernel = tinygp.kernels.quasisep.Matern32(sigma=sigma, scale=rho)\n",
    "    for _ in range(1, num_terms):\n",
    "        kernel += tinygp.kernels.quasisep.Matern32(sigma=sigma, scale=rho)\n",
    "    gp = tinygp.GaussianProcess(kernel, x, diag=jitter**2)\n",
    "    return gp.log_probability(y)"
   ]
  },
  {
   "cell_type": "code",
   "execution_count": null,
   "id": "4a2deee1-f53e-488e-a8f9-e535bdaed69c",
   "metadata": {},
   "outputs": [],
   "source": [
    "ns = [10, 20, 100, 200, 1_000, 2_000, 10_000, 20_000, len(x)]\n",
    "num_terms = [1, 3, 5]\n",
    "data = []\n",
    "for n in ns:\n",
    "    print(f\"\\nN = {n}:\")\n",
    "    row = [n]\n",
    "\n",
    "    args = x[:n], y[:n]\n",
    "    gpu_args = jax.device_put(x[:n]), jax.device_put(y[:n])\n",
    "\n",
    "    if n < 10_000:\n",
    "        tinygp_loglike_cpu(*args).block_until_ready()\n",
    "        results = %timeit -o tinygp_loglike_cpu(*args).block_until_ready()\n",
    "        row.append(results.average)\n",
    "    else:\n",
    "        row.append(np.nan)\n",
    "\n",
    "    if n <= 20_000:\n",
    "        tinygp_loglike_gpu(*gpu_args).block_until_ready()\n",
    "        results = %timeit -o tinygp_loglike_gpu(*gpu_args).block_until_ready()\n",
    "        row.append(results.average)\n",
    "    else:\n",
    "        row.append(np.nan)\n",
    "\n",
    "    for j in num_terms:\n",
    "        quasisep_loglike(*args, num_terms=j).block_until_ready()\n",
    "        results = %timeit -o quasisep_loglike(*args, num_terms=j).block_until_ready()\n",
    "        row.append(results.average)\n",
    "\n",
    "    data.append(tuple(row))\n",
    "\n",
    "data = np.array(\n",
    "    data,\n",
    "    dtype=[\n",
    "        (\"n\", int),\n",
    "        (\"cpu\", float),\n",
    "        (\"gpu\", float),\n",
    "    ]\n",
    "    + [(f\"qs{j}\", float) for j in num_terms],\n",
    ")"
   ]
  },
  {
   "cell_type": "code",
   "execution_count": null,
   "id": "a7fcda93-f245-4995-b4e2-8db0cd3fd461",
   "metadata": {},
   "outputs": [],
   "source": [
    "df = pd.DataFrame.from_records(data)\n",
    "df = df.set_index(\"n\")\n",
    "df.to_csv(\"scaling.csv\")"
   ]
  },
  {
   "cell_type": "code",
   "execution_count": null,
   "id": "0914973a-9c45-4db7-9dfd-7505e63582e4",
   "metadata": {},
   "outputs": [],
   "source": [
    "fig, ax = plt.subplots()\n",
    "for k, s in zip(df.columns, \"s^ooo\"):\n",
    "    label = (\n",
    "        f\"celerite ({k[2:]} term{'' if k[2] == '1' else 's'})\"\n",
    "        if k.startswith(\"qs\")\n",
    "        else f\"direct ({k.upper()})\"\n",
    "    )\n",
    "    ax.loglog(df.index[~df[k].isna()], df[k][~df[k].isna()], f\"{s}-\", label=label)\n",
    "ax.legend()\n",
    "ax.set_xlabel(\"number of data points\")\n",
    "ax.set_ylabel(\"cost of one likelihood evaluation [sec]\");"
   ]
  },
  {
   "cell_type": "code",
   "execution_count": null,
   "id": "bb379b49-4aae-4c44-bdc0-9cd2a93c5abd",
   "metadata": {},
   "outputs": [],
   "source": []
  }
 ],
 "metadata": {
  "kernelspec": {
   "display_name": "tinygp-venv",
   "language": "python",
   "name": "tinygp-venv"
  },
  "language_info": {
   "codemirror_mode": {
    "name": "ipython",
    "version": 3
   },
   "file_extension": ".py",
   "mimetype": "text/x-python",
   "name": "python",
   "nbconvert_exporter": "python",
   "pygments_lexer": "ipython3",
   "version": "3.8.12"
  }
 },
 "nbformat": 4,
 "nbformat_minor": 5
}
