{
 "cells": [
  {
   "cell_type": "markdown",
   "metadata": {},
   "source": [
    "# Simulated transit model"
   ]
  },
  {
   "cell_type": "code",
   "execution_count": null,
   "metadata": {},
   "outputs": [],
   "source": [
    "import matplotlib.pyplot as plt\n",
    "\n",
    "plt.plot()  # Required to reset the rcParams for some reason\n",
    "plt.style.use([\"default\", \"./araa-gps.mplstyle\"])\n",
    "plt.close()"
   ]
  },
  {
   "cell_type": "code",
   "execution_count": null,
   "metadata": {},
   "outputs": [],
   "source": [
    "import warnings\n",
    "from functools import partial\n",
    "\n",
    "import corner\n",
    "import jax\n",
    "import jax.numpy as jnp\n",
    "import numpy as np\n",
    "import numpyro\n",
    "import matplotlib as mpl\n",
    "from exo4jax.light_curves import QuadLightCurve\n",
    "from exo4jax.orbits import TransitOrbit\n",
    "from numpyro import distributions as dist\n",
    "from numpyro import infer\n",
    "from numpyro_ext import distributions as distx\n",
    "from numpyro_ext import info, optim\n",
    "from tinygp import GaussianProcess, kernels\n",
    "import arviz as az\n",
    "\n",
    "from paths import figures"
   ]
  },
  {
   "cell_type": "markdown",
   "metadata": {},
   "source": [
    "Start by setting some configuration variables:"
   ]
  },
  {
   "cell_type": "code",
   "execution_count": null,
   "metadata": {},
   "outputs": [],
   "source": [
    "warnings.filterwarnings(\"ignore\", category=FutureWarning)\n",
    "jax.config.update(\"jax_enable_x64\", True)\n",
    "numpyro.set_host_device_count(2)"
   ]
  },
  {
   "cell_type": "markdown",
   "metadata": {},
   "source": [
    "Simulate a transit dataset. I played around with the random seed a bit to get a pronounced result, but it's not unreasonable."
   ]
  },
  {
   "cell_type": "code",
   "execution_count": null,
   "metadata": {},
   "outputs": [],
   "source": [
    "def light_curve(params, t, period=1.0):\n",
    "    lc = QuadLightCurve.init(u1=params[\"u\"][0], u2=params[\"u\"][1])\n",
    "    orbit = TransitOrbit.init(\n",
    "        period=period,\n",
    "        duration=jnp.exp(params[\"log_duration\"]),\n",
    "        time_transit=params[\"t0\"],\n",
    "        impact_param=params[\"b\"],\n",
    "        radius=jnp.exp(params[\"log_r\"]),\n",
    "    )\n",
    "    return jnp.exp(params[\"log_f0\"]) * (1 + lc.light_curve(orbit, t)[0])\n",
    "\n",
    "\n",
    "def build_gp(params, t, diag):\n",
    "    kernel = jnp.exp(2 * params[\"log_amp\"]) * kernels.quasisep.Matern32(\n",
    "        jnp.exp(params[\"log_ell\"])\n",
    "    )\n",
    "    return GaussianProcess(kernel, t, diag=diag, mean=partial(light_curve, params))\n",
    "\n",
    "\n",
    "t_grid = jnp.linspace(-0.3, 0.3, 1000)\n",
    "t = jnp.linspace(-0.2, 0.2, 75)\n",
    "y_err = 0.001\n",
    "\n",
    "true_params = {\n",
    "    \"log_f0\": 0.0,\n",
    "    \"u\": jnp.array([0.3, 0.2]),\n",
    "    \"log_duration\": jnp.log(0.12),\n",
    "    \"t0\": 0.0,\n",
    "    \"b\": 0.1,\n",
    "    \"log_r\": jnp.log(0.1),\n",
    "    \"log_amp\": jnp.log(0.002),\n",
    "    \"log_ell\": jnp.log(0.02),\n",
    "}\n",
    "\n",
    "gp = build_gp(true_params, t, diag=y_err**2)\n",
    "y = gp.sample(jax.random.PRNGKey(1047))\n",
    "plt.plot(t, y, \".\")\n",
    "plt.xlabel(\"time\")\n",
    "plt.ylabel(\"relative flux\");"
   ]
  },
  {
   "cell_type": "markdown",
   "metadata": {},
   "source": [
    "Set up a model in NumPyro that can fit these data either using a GP model or not."
   ]
  },
  {
   "cell_type": "code",
   "execution_count": null,
   "metadata": {},
   "outputs": [],
   "source": [
    "def model(t, y_err, y=None, use_gp=True):\n",
    "    # If we wanted to fit for all the parameters, we could use the following,\n",
    "    # but we'll keep these fixed for simplicity.\n",
    "    # log_duration = numpyro.sample(\"log_duration\", dist.Uniform(jnp.log(0.08), jnp.log(0.2)))\n",
    "    # b = numpyro.sample(\"b\", dist.Uniform(0.0, 1.0))\n",
    "\n",
    "    log_jitter = numpyro.sample(\"log_jitter\", dist.Normal(jnp.log(y_err), 1.0))\n",
    "    log_f0 = numpyro.sample(\"log_f0\", dist.Normal(0.0, 0.01))\n",
    "    u = numpyro.sample(\"u\", distx.QuadLDParams())\n",
    "    t0 = numpyro.sample(\"t0\", dist.Normal(0.0, 0.1))\n",
    "    numpyro.deterministic(\"t0_minutes\", t0 * 24 * 60)\n",
    "    log_r = numpyro.sample(\"log_r\", dist.Normal(jnp.log(0.1), 2.0))\n",
    "    numpyro.deterministic(\"r\", jnp.exp(log_r))\n",
    "    params = {\n",
    "        \"log_f0\": log_f0,\n",
    "        \"u\": u,\n",
    "        \"log_duration\": jnp.log(0.12),\n",
    "        \"t0\": t0,\n",
    "        \"b\": 0.1,\n",
    "        \"log_r\": log_r,\n",
    "    }\n",
    "\n",
    "    if use_gp:\n",
    "        params[\"log_amp\"] = numpyro.sample(\"log_amp\", dist.Normal(0.0, 2.0))\n",
    "        params[\"log_ell\"] = numpyro.sample(\"log_ell\", dist.Normal(0.0, 2.0))\n",
    "        gp = build_gp(params, t, diag=y_err**2 + jnp.exp(2 * log_jitter))\n",
    "        numpyro.sample(\"y\", gp.numpyro_dist(), obs=y)\n",
    "        mu = gp.mean_function(t_grid)\n",
    "        numpyro.deterministic(\"mu\", mu)\n",
    "        numpyro.deterministic(\"gp\", gp.condition(y, t_grid, include_mean=False).gp.loc)\n",
    "\n",
    "    else:\n",
    "        numpyro.sample(\n",
    "            \"y\",\n",
    "            dist.Normal(\n",
    "                light_curve(params, t), jnp.sqrt(y_err**2 + jnp.exp(2 * log_jitter))\n",
    "            ),\n",
    "            obs=y,\n",
    "        )\n",
    "        numpyro.deterministic(\"mu\", light_curve(params, t_grid))"
   ]
  },
  {
   "cell_type": "markdown",
   "metadata": {},
   "source": [
    "Do the fit ignoring correlated noise:"
   ]
  },
  {
   "cell_type": "code",
   "execution_count": null,
   "metadata": {},
   "outputs": [],
   "source": [
    "sampler_wn = infer.MCMC(\n",
    "    infer.NUTS(\n",
    "        model,\n",
    "        dense_mass=True,\n",
    "        target_accept_prob=0.9,\n",
    "        init_strategy=infer.init_to_value(values=true_params),\n",
    "    ),\n",
    "    num_warmup=1000,\n",
    "    num_samples=2000,\n",
    "    num_chains=2,\n",
    "    progress_bar=True,\n",
    ")\n",
    "%time sampler_wn.run(jax.random.PRNGKey(11), t, y_err, y, use_gp=False)\n",
    "\n",
    "inf_data_wn = az.from_numpyro(sampler_wn)\n",
    "az.summary(inf_data_wn, var_names=[\"t0\", \"r\"])"
   ]
  },
  {
   "cell_type": "markdown",
   "metadata": {},
   "source": [
    "Do the fit with a GP:"
   ]
  },
  {
   "cell_type": "code",
   "execution_count": null,
   "metadata": {},
   "outputs": [],
   "source": [
    "sampler = infer.MCMC(\n",
    "    infer.NUTS(\n",
    "        model,\n",
    "        dense_mass=True,\n",
    "        target_accept_prob=0.9,\n",
    "        init_strategy=infer.init_to_value(values=true_params),\n",
    "    ),\n",
    "    num_warmup=1000,\n",
    "    num_samples=2000,\n",
    "    num_chains=2,\n",
    "    progress_bar=True,\n",
    ")\n",
    "%time sampler.run(jax.random.PRNGKey(12), t, y_err, y, use_gp=True)\n",
    "\n",
    "inf_data = az.from_numpyro(sampler)\n",
    "az.summary(inf_data, var_names=[\"t0\", \"r\"])"
   ]
  },
  {
   "cell_type": "markdown",
   "metadata": {},
   "source": [
    "Overplot the two sets of posteriors to show the difference:"
   ]
  },
  {
   "cell_type": "code",
   "execution_count": null,
   "metadata": {},
   "outputs": [],
   "source": [
    "with mpl.rc_context({\"font.size\": 14}):\n",
    "    p1 = inf_data.posterior\n",
    "    p2 = inf_data_wn.posterior\n",
    "    ranges = [\n",
    "        (\n",
    "            min(p1[\"t0_minutes\"].values.min(), p2[\"t0_minutes\"].values.min()),\n",
    "            max(p1[\"t0_minutes\"].values.max(), p2[\"t0_minutes\"].values.max()),\n",
    "        ),\n",
    "        (\n",
    "            0.07,\n",
    "            # min(p1[\"r\"].values.min(), p2[\"r\"].values.min()),\n",
    "            max(p1[\"r\"].values.max(), p2[\"r\"].values.max()),\n",
    "        ),\n",
    "    ]\n",
    "    fig = corner.corner(\n",
    "        inf_data_wn, range=ranges, bins=30, var_names=[\"t0_minutes\", \"r\"], color=\"C1\"\n",
    "    )\n",
    "    fig = corner.corner(\n",
    "        inf_data,\n",
    "        range=ranges,\n",
    "        bins=30,\n",
    "        var_names=[\"t0_minutes\", \"r\"],\n",
    "        labels=[\"$T_0$ [minutes]\", r\"$R_\\mathrm{P} / R_\\star$\"],\n",
    "        truths=[true_params[\"t0\"], jnp.exp(true_params[\"log_r\"])],\n",
    "        color=\"C0\",\n",
    "        truth_color=\"k\",\n",
    "        fig=fig,\n",
    "    )\n",
    "    fig.savefig(figures / \"transit_posteriors.pdf\", bbox_inches=\"tight\")"
   ]
  },
  {
   "cell_type": "markdown",
   "metadata": {},
   "source": [
    "Plot the predictions in the space of the data:"
   ]
  },
  {
   "cell_type": "code",
   "execution_count": null,
   "metadata": {},
   "outputs": [],
   "source": [
    "samples = sampler.get_samples()\n",
    "pred_gp = samples[\"gp\"] + samples[\"mu\"]\n",
    "pred = samples[\"mu\"]\n",
    "\n",
    "samples_wn = sampler_wn.get_samples()\n",
    "pred_wn = samples_wn[\"mu\"]\n",
    "\n",
    "inds = jax.random.randint(jax.random.PRNGKey(0), (12,), 0, len(pred_gp))\n",
    "\n",
    "plt.figure(figsize=(5, 3.5))\n",
    "plt.errorbar(t, y, yerr=y_err, fmt=\".k\")\n",
    "plt.plot(t_grid, pred_wn[inds].T, \"C1\", alpha=0.1)\n",
    "plt.plot(t_grid, jnp.median(pred_wn, axis=0), \"C1\", label=\"without GP\")\n",
    "plt.plot(t_grid, pred_gp[inds].T, \"C0\", alpha=0.1)\n",
    "plt.plot(t_grid, jnp.median(pred_gp, axis=0), \"C0\", label=\"with GP\")\n",
    "plt.plot(t_grid, light_curve(true_params, t_grid), \"k--\", lw=1, label=\"ground truth\")\n",
    "plt.xlim(-0.22, 0.22)\n",
    "plt.legend(fontsize=10, loc=\"lower right\")\n",
    "plt.xlabel(\"time [days]\")\n",
    "plt.ylabel(\"relative flux\")\n",
    "plt.savefig(figures / \"transit.pdf\", bbox_inches=\"tight\")"
   ]
  },
  {
   "cell_type": "code",
   "execution_count": null,
   "metadata": {},
   "outputs": [],
   "source": []
  }
 ],
 "metadata": {
  "kernelspec": {
   "display_name": "Python 3.10.5 ('araa-gps')",
   "language": "python",
   "name": "python3"
  },
  "language_info": {
   "codemirror_mode": {
    "name": "ipython",
    "version": 3
   },
   "file_extension": ".py",
   "mimetype": "text/x-python",
   "name": "python",
   "nbconvert_exporter": "python",
   "pygments_lexer": "ipython3",
   "version": "3.10.5"
  },
  "vscode": {
   "interpreter": {
    "hash": "37131511e6302b4c680d7a9231cad616a6dbde5e3e7bdd137309d00c60a9825b"
   }
  }
 },
 "nbformat": 4,
 "nbformat_minor": 2
}
