{
 "cells": [
  {
   "cell_type": "markdown",
   "metadata": {},
   "source": [
    "# Scaling of a GP"
   ]
  },
  {
   "cell_type": "code",
   "execution_count": null,
   "metadata": {},
   "outputs": [],
   "source": [
    "import matplotlib.pyplot as plt\n",
    "\n",
    "plt.plot()  # Required to reset the rcParams for some reason\n",
    "plt.style.use([\"default\", \"./araa-gps.mplstyle\"])\n",
    "plt.close()"
   ]
  },
  {
   "cell_type": "code",
   "execution_count": null,
   "metadata": {},
   "outputs": [],
   "source": [
    "import pandas as pd\n",
    "from tinygp import kernels\n",
    "\n",
    "from paths import figures, data"
   ]
  },
  {
   "cell_type": "code",
   "execution_count": null,
   "metadata": {},
   "outputs": [],
   "source": [
    "df = pd.read_csv(data / \"scaling.csv\").set_index(\"n\")"
   ]
  },
  {
   "cell_type": "code",
   "execution_count": null,
   "metadata": {},
   "outputs": [],
   "source": [
    "fig, ax = plt.subplots(figsize=(9, 5.5))\n",
    "for k, s in zip(df.columns, \"s^ooo\"):\n",
    "    label = (\n",
    "        f\"celerite ({k[2:]} term{'' if k[2] == '1' else 's'})\"\n",
    "        if k.startswith(\"qs\")\n",
    "        else f\"direct ({k.upper()})\"\n",
    "    )\n",
    "    ax.loglog(df.index[~df[k].isna()], df[k][~df[k].isna()], f\"{s}-\", label=label)\n",
    "ax.legend(fontsize=12)\n",
    "ax.set_xlabel(\"number of data points\")\n",
    "ax.set_ylabel(\"cost of one likelihood evaluation [sec]\")\n",
    "fig.savefig(figures / \"scaling.pdf\", bbox_inches=\"tight\")"
   ]
  }
 ],
 "metadata": {
  "kernelspec": {
   "display_name": "Python 3.10.5 ('araa-gps')",
   "language": "python",
   "name": "python3"
  },
  "language_info": {
   "codemirror_mode": {
    "name": "ipython",
    "version": 3
   },
   "file_extension": ".py",
   "mimetype": "text/x-python",
   "name": "python",
   "nbconvert_exporter": "python",
   "pygments_lexer": "ipython3",
   "version": "3.10.5"
  },
  "vscode": {
   "interpreter": {
    "hash": "37131511e6302b4c680d7a9231cad616a6dbde5e3e7bdd137309d00c60a9825b"
   }
  }
 },
 "nbformat": 4,
 "nbformat_minor": 2
}
