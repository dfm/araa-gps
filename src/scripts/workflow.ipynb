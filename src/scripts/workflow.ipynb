{
 "cells": [
  {
   "cell_type": "code",
   "execution_count": null,
   "metadata": {},
   "outputs": [],
   "source": [
    "# Required to reset the rcParams for some reason\n",
    "import matplotlib.pyplot as plt\n",
    "\n",
    "plt.plot()\n",
    "plt.style.use([\"default\", \"./araa-gps.mplstyle\"])\n",
    "plt.close()"
   ]
  },
  {
   "cell_type": "code",
   "execution_count": null,
   "metadata": {},
   "outputs": [],
   "source": [
    "import warnings\n",
    "from functools import partial\n",
    "\n",
    "import corner\n",
    "import emcee\n",
    "import jax\n",
    "import jax.numpy as jnp\n",
    "import jaxopt\n",
    "import matplotlib.pyplot as plt\n",
    "import numpy as np\n",
    "from jax.flatten_util import ravel_pytree\n",
    "from statsmodels.datasets import co2\n",
    "from tinygp import GaussianProcess, kernels\n",
    "\n",
    "from paths import data, figures"
   ]
  },
  {
   "cell_type": "code",
   "execution_count": null,
   "metadata": {},
   "outputs": [],
   "source": [
    "warnings.filterwarnings(\"ignore\", category=FutureWarning)\n",
    "jax.config.update(\"jax_enable_x64\", True)\n",
    "\n",
    "figsize = (4, 3)"
   ]
  },
  {
   "cell_type": "code",
   "execution_count": null,
   "metadata": {},
   "outputs": [],
   "source": [
    "fig = plt.figure(figsize=figsize)\n",
    "plt.plot([-0.5, 0, 0, 1, 1, 1.5], [0, 0, 1, 1, 0, 0], \"k\")\n",
    "plt.xlim(-0.1, 1.1)\n",
    "plt.xlabel(r\"$\\theta$\")\n",
    "plt.ylabel(r\"$p(\\theta)$\")\n",
    "fig.savefig(figures / \"workflow-hyperprior.pdf\", dpi=300, bbox_inches=\"tight\")"
   ]
  },
  {
   "cell_type": "code",
   "execution_count": null,
   "metadata": {},
   "outputs": [],
   "source": [
    "data = co2.load_pandas().data\n",
    "t = 2000 + (np.array(data.index.to_julian_date()) - 2451545.0) / 365.25\n",
    "y = np.array(data.co2)\n",
    "m = np.isfinite(t) & np.isfinite(y) & (t < 1996)\n",
    "t, y = t[m][::4], y[m][::4]\n",
    "\n",
    "x = np.linspace(max(t), 2025, 2000)\n",
    "\n",
    "fig = plt.figure(figsize=figsize)\n",
    "plt.plot(t, y, \".k\")\n",
    "plt.xlim(t.min(), t.max())\n",
    "plt.xlabel(\"year\")\n",
    "plt.ylabel(\"CO$_2$ in ppm\")\n",
    "\n",
    "fig.savefig(figures / \"workflow-data.pdf\", dpi=300, bbox_inches=\"tight\")"
   ]
  },
  {
   "cell_type": "code",
   "execution_count": null,
   "metadata": {},
   "outputs": [],
   "source": [
    "def build_gp(theta, X):\n",
    "\n",
    "    # We want most of our parameters to be positive so we take the `exp` here\n",
    "    # Note that we're using `jnp` instead of `np`\n",
    "    amps = jnp.exp(theta[\"log_amps\"])\n",
    "    scales = jnp.exp(theta[\"log_scales\"])\n",
    "\n",
    "    # Construct the kernel by multiplying and adding `Kernel` objects\n",
    "    k1 = amps[0] * kernels.ExpSquared(scales[0])\n",
    "    k2 = (\n",
    "        amps[1]\n",
    "        * kernels.ExpSquared(scales[1])\n",
    "        * kernels.ExpSineSquared(\n",
    "            scale=jnp.exp(theta[\"log_period\"]),\n",
    "            gamma=jnp.exp(theta[\"log_gamma\"]),\n",
    "        )\n",
    "    )\n",
    "    k3 = amps[2] * kernels.RationalQuadratic(\n",
    "        alpha=jnp.exp(theta[\"log_alpha\"]), scale=scales[2]\n",
    "    )\n",
    "    k4 = amps[3] * kernels.ExpSquared(scales[3])\n",
    "    kernel = k1 + k2 + k3 + k4\n",
    "\n",
    "    return GaussianProcess(\n",
    "        kernel, X, diag=jnp.exp(theta[\"log_diag\"]), mean=theta[\"mean\"]\n",
    "    )\n",
    "\n",
    "\n",
    "def neg_log_likelihood(theta, X, y):\n",
    "    gp = build_gp(theta, X)\n",
    "    return -gp.log_probability(y)\n",
    "\n",
    "\n",
    "theta_init = {\n",
    "    \"mean\": np.float64(340.0),\n",
    "    \"log_diag\": np.log(0.19),\n",
    "    \"log_amps\": np.log([66.0, 2.4, 0.66, 0.18]),\n",
    "    \"log_scales\": np.log([67.0, 90.0, 0.78, 1.6]),\n",
    "    \"log_period\": np.float64(0.0),\n",
    "    \"log_gamma\": np.log(4.3),\n",
    "    \"log_alpha\": np.log(1.2),\n",
    "}\n",
    "\n",
    "# `jax` can be used to differentiate functions, and also note that we're calling\n",
    "# `jax.jit` for the best performance.\n",
    "obj = jax.jit(jax.value_and_grad(neg_log_likelihood))\n",
    "\n",
    "print(f\"Initial negative log likelihood: {obj(theta_init, t, y)[0]}\")\n",
    "print(\n",
    "    f\"Gradient of the negative log likelihood, wrt the parameters:\\n{obj(theta_init, t, y)[1]}\"\n",
    ")\n",
    "\n",
    "solver = jaxopt.ScipyMinimize(fun=neg_log_likelihood)\n",
    "soln = solver.run(theta_init, X=t, y=y)\n",
    "print(f\"Final negative log likelihood: {soln.state.fun_val}\")"
   ]
  },
  {
   "cell_type": "code",
   "execution_count": null,
   "metadata": {},
   "outputs": [],
   "source": [
    "kernel = build_gp(soln.params, t).kernel\n",
    "fig = plt.figure(figsize=figsize)\n",
    "tau = np.linspace(0, 20, 1000)\n",
    "k = kernel(tau, np.zeros(1))[:, 0]\n",
    "plt.plot(tau, k, \"k\")\n",
    "plt.xlim(tau.min(), tau.max())\n",
    "plt.ylabel(r\"$k(\\tau)$\")\n",
    "plt.xlabel(r\"$\\tau$ [year]\")\n",
    "\n",
    "fig.savefig(figures / \"workflow-kernel.pdf\", dpi=300, bbox_inches=\"tight\")"
   ]
  },
  {
   "cell_type": "code",
   "execution_count": null,
   "metadata": {},
   "outputs": [],
   "source": [
    "fig = plt.figure(figsize=(min(figsize), min(figsize)))\n",
    "plt.imshow(kernel(t, t), origin=\"upper\", cmap=\"Greys\")\n",
    "plt.xticks([])\n",
    "plt.yticks([])\n",
    "fig.savefig(figures / \"workflow-covariance.pdf\", dpi=300, bbox_inches=\"tight\")"
   ]
  },
  {
   "cell_type": "code",
   "execution_count": null,
   "metadata": {},
   "outputs": [],
   "source": [
    "t_ = np.linspace(1960, 1975, 1000)\n",
    "gp = build_gp(soln.params, t_)\n",
    "samples = gp.sample(jax.random.PRNGKey(1), (5,))\n",
    "fig = plt.figure(figsize=figsize)\n",
    "plt.plot(\n",
    "    t_,\n",
    "    (\n",
    "        samples\n",
    "        - (np.median(samples, axis=-1) - 300 - 5 * np.arange(len(samples)))[:, None]\n",
    "    ).T,\n",
    "    lw=1,\n",
    ")\n",
    "plt.xlim(t_.min(), t_.max())\n",
    "plt.xlabel(\"year\")\n",
    "plt.ylabel(\"CO$_2$ in ppm\")\n",
    "fig.savefig(figures / \"workflow-prior-samples.pdf\", dpi=300, bbox_inches=\"tight\")"
   ]
  },
  {
   "cell_type": "code",
   "execution_count": null,
   "metadata": {},
   "outputs": [],
   "source": [
    "gp = build_gp(soln.params, t)\n",
    "cond_gp = gp.condition(y, x).gp\n",
    "mu, var = cond_gp.loc, cond_gp.variance\n",
    "\n",
    "fig = plt.figure(figsize=figsize)\n",
    "plt.plot(t, y, \".k\", ms=3)\n",
    "plt.fill_between(\n",
    "    x,\n",
    "    mu + 2 * np.sqrt(var),\n",
    "    mu - 2 * np.sqrt(var),\n",
    "    color=\"C0\",\n",
    "    alpha=0.5,\n",
    "    edgecolor=\"none\",\n",
    ")\n",
    "plt.plot(x, mu, color=\"C0\", lw=1)\n",
    "\n",
    "plt.xlim(t.min(), 2025)\n",
    "plt.xlabel(\"year\")\n",
    "plt.ylabel(\"CO$_2$ in ppm\")\n",
    "fig.savefig(figures / \"workflow-pred.pdf\", dpi=300, bbox_inches=\"tight\")"
   ]
  },
  {
   "cell_type": "code",
   "execution_count": null,
   "metadata": {},
   "outputs": [],
   "source": [
    "np_random = np.random.default_rng(0)\n",
    "flat_params, unravel_fn = ravel_pytree(soln.params)\n",
    "\n",
    "\n",
    "@jax.jit\n",
    "def log_prob(flat):\n",
    "    return -neg_log_likelihood(unravel_fn(flat), t, y)\n",
    "\n",
    "\n",
    "ndim = len(flat_params)\n",
    "nwalkers = 36\n",
    "init_params = np_random.normal(\n",
    "    flat_params, np.full_like(flat_params, 1e-4), size=(nwalkers, ndim)\n",
    ")\n",
    "sampler = emcee.EnsembleSampler(nwalkers, ndim, log_prob)"
   ]
  },
  {
   "cell_type": "code",
   "execution_count": null,
   "metadata": {},
   "outputs": [],
   "source": [
    "print(\"Running burn-in\")\n",
    "p0, _, _ = sampler.run_mcmc(init_params, 200)\n",
    "\n",
    "print(\"Running production chain\")\n",
    "sampler.run_mcmc(p0, 200);"
   ]
  },
  {
   "cell_type": "code",
   "execution_count": null,
   "metadata": {},
   "outputs": [],
   "source": [
    "@jax.jit\n",
    "def sample(key, flat):\n",
    "    return build_gp(unravel_fn(flat), t).condition(y, x).gp.sample(key)\n",
    "\n",
    "\n",
    "fig = plt.figure(figsize=figsize)\n",
    "\n",
    "for i in range(50):\n",
    "    # Choose a random walker and step.\n",
    "    w = np_random.integers(sampler.chain.shape[0])\n",
    "    n = np_random.integers(sampler.chain.shape[1])\n",
    "    y_ = sample(jax.random.PRNGKey(i), sampler.chain[w, n])\n",
    "\n",
    "    # Plot a single sample.\n",
    "    plt.plot(x, y_, \"C0\", alpha=0.1)\n",
    "\n",
    "plt.plot(t, y, \".k\", ms=3)\n",
    "plt.xlim(t.min(), 2025)\n",
    "plt.xlabel(\"year\")\n",
    "plt.ylabel(\"CO$_2$ in ppm\")\n",
    "fig.savefig(figures / \"workflow-posterior.pdf\", dpi=300, bbox_inches=\"tight\")"
   ]
  },
  {
   "cell_type": "code",
   "execution_count": null,
   "metadata": {},
   "outputs": [],
   "source": [
    "fig = corner.corner(\n",
    "    sampler.get_chain(flat=True)[:, (0, 5, -1)],\n",
    "    plot_datapoints=False,\n",
    "    smooth=1,\n",
    "    smooth1d=1,\n",
    "    labels=[r\"$\\log \\alpha$\", r\"$\\log \\sigma$\", r\"$\\mu$\"],\n",
    ")\n",
    "fig.savefig(figures / \"workflow-corner.pdf\", dpi=300, bbox_inches=\"tight\")"
   ]
  },
  {
   "cell_type": "code",
   "execution_count": null,
   "metadata": {},
   "outputs": [],
   "source": []
  }
 ],
 "metadata": {
  "kernelspec": {
   "display_name": "Python 3.10.5 ('araa-gps')",
   "language": "python",
   "name": "python3"
  },
  "language_info": {
   "codemirror_mode": {
    "name": "ipython",
    "version": 3
   },
   "file_extension": ".py",
   "mimetype": "text/x-python",
   "name": "python",
   "nbconvert_exporter": "python",
   "pygments_lexer": "ipython3",
   "version": "3.10.5"
  },
  "vscode": {
   "interpreter": {
    "hash": "37131511e6302b4c680d7a9231cad616a6dbde5e3e7bdd137309d00c60a9825b"
   }
  }
 },
 "nbformat": 4,
 "nbformat_minor": 2
}
